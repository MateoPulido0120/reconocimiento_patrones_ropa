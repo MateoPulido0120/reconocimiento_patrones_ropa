{
 "cells": [
  {
   "attachments": {},
   "cell_type": "markdown",
   "metadata": {},
   "source": [
    "#### ***Importación de las librerias utiles***"
   ]
  },
  {
   "cell_type": "code",
   "execution_count": 21,
   "metadata": {},
   "outputs": [],
   "source": [
    "import pandas as pd\n",
    "import numpy as np\n",
    "from PIL import Image \n",
    "from tqdm import tqdm\n",
    "import os\n",
    "from skimage.io import imread_collection\n",
    "import tensorflow as tf\n",
    "from sklearn import preprocessing"
   ]
  },
  {
   "attachments": {},
   "cell_type": "markdown",
   "metadata": {},
   "source": [
    "#### ***Lectura del dataset en formato CSV***"
   ]
  },
  {
   "cell_type": "code",
   "execution_count": 22,
   "metadata": {},
   "outputs": [
    {
     "data": {
      "text/html": [
       "<div>\n",
       "<style scoped>\n",
       "    .dataframe tbody tr th:only-of-type {\n",
       "        vertical-align: middle;\n",
       "    }\n",
       "\n",
       "    .dataframe tbody tr th {\n",
       "        vertical-align: top;\n",
       "    }\n",
       "\n",
       "    .dataframe thead th {\n",
       "        text-align: right;\n",
       "    }\n",
       "</style>\n",
       "<table border=\"1\" class=\"dataframe\">\n",
       "  <thead>\n",
       "    <tr style=\"text-align: right;\">\n",
       "      <th></th>\n",
       "      <th>image</th>\n",
       "      <th>sender_id</th>\n",
       "      <th>label</th>\n",
       "      <th>kids</th>\n",
       "    </tr>\n",
       "  </thead>\n",
       "  <tbody>\n",
       "    <tr>\n",
       "      <th>0</th>\n",
       "      <td>4285fab0-751a-4b74-8e9b-43af05deee22</td>\n",
       "      <td>124</td>\n",
       "      <td>Not sure</td>\n",
       "      <td>False</td>\n",
       "    </tr>\n",
       "    <tr>\n",
       "      <th>1</th>\n",
       "      <td>ea7b6656-3f84-4eb3-9099-23e623fc1018</td>\n",
       "      <td>148</td>\n",
       "      <td>T-Shirt</td>\n",
       "      <td>False</td>\n",
       "    </tr>\n",
       "    <tr>\n",
       "      <th>2</th>\n",
       "      <td>00627a3f-0477-401c-95eb-92642cbe078d</td>\n",
       "      <td>94</td>\n",
       "      <td>Not sure</td>\n",
       "      <td>False</td>\n",
       "    </tr>\n",
       "    <tr>\n",
       "      <th>3</th>\n",
       "      <td>ea2ffd4d-9b25-4ca8-9dc2-bd27f1cc59fa</td>\n",
       "      <td>43</td>\n",
       "      <td>T-Shirt</td>\n",
       "      <td>False</td>\n",
       "    </tr>\n",
       "    <tr>\n",
       "      <th>4</th>\n",
       "      <td>3b86d877-2b9e-4c8b-a6a2-1d87513309d0</td>\n",
       "      <td>189</td>\n",
       "      <td>Shoes</td>\n",
       "      <td>False</td>\n",
       "    </tr>\n",
       "  </tbody>\n",
       "</table>\n",
       "</div>"
      ],
      "text/plain": [
       "                                  image  sender_id     label   kids\n",
       "0  4285fab0-751a-4b74-8e9b-43af05deee22        124  Not sure  False\n",
       "1  ea7b6656-3f84-4eb3-9099-23e623fc1018        148   T-Shirt  False\n",
       "2  00627a3f-0477-401c-95eb-92642cbe078d         94  Not sure  False\n",
       "3  ea2ffd4d-9b25-4ca8-9dc2-bd27f1cc59fa         43   T-Shirt  False\n",
       "4  3b86d877-2b9e-4c8b-a6a2-1d87513309d0        189     Shoes  False"
      ]
     },
     "execution_count": 22,
     "metadata": {},
     "output_type": "execute_result"
    }
   ],
   "source": [
    "data_clothes = pd.read_csv('dataset2/images.csv')\n",
    "data_clothes.head()"
   ]
  },
  {
   "attachments": {},
   "cell_type": "markdown",
   "metadata": {},
   "source": [
    "#### ***Visualización de la catidad de datos y categorias existentes en el dataset***"
   ]
  },
  {
   "cell_type": "code",
   "execution_count": 23,
   "metadata": {},
   "outputs": [
    {
     "data": {
      "text/plain": [
       "T-Shirt       1011\n",
       "Longsleeve     699\n",
       "Pants          692\n",
       "Shoes          431\n",
       "Shirt          378\n",
       "Dress          357\n",
       "Outwear        312\n",
       "Shorts         308\n",
       "Not sure       228\n",
       "Hat            171\n",
       "Skirt          155\n",
       "Polo           120\n",
       "Undershirt     118\n",
       "Blazer         109\n",
       "Hoodie         100\n",
       "Body            69\n",
       "Other           67\n",
       "Top             43\n",
       "Blouse          23\n",
       "Skip            12\n",
       "Name: label, dtype: int64"
      ]
     },
     "execution_count": 23,
     "metadata": {},
     "output_type": "execute_result"
    }
   ],
   "source": [
    "# Categorias del datset y cuantas veces se repiten\n",
    "data_clothes['label'].value_counts()"
   ]
  },
  {
   "attachments": {},
   "cell_type": "markdown",
   "metadata": {},
   "source": [
    "#### ***Selección y limpieza de datos a clasificar (Camisetas y pantalones)***"
   ]
  },
  {
   "cell_type": "code",
   "execution_count": 24,
   "metadata": {},
   "outputs": [
    {
     "data": {
      "text/plain": [
       "1    618\n",
       "0    382\n",
       "Name: label, dtype: int64"
      ]
     },
     "execution_count": 24,
     "metadata": {},
     "output_type": "execute_result"
    }
   ],
   "source": [
    "# Se agrega .jpg a los nombres de las imagenes para facilitar su lectura\n",
    "data_clothes['image'] = data_clothes['image'] + '.jpg'\n",
    "data_clothes = data_clothes[['image', 'label']]\n",
    "\n",
    "# Se elimina todas las categorias excepto T-Shirt y Pants\n",
    "data_clothes_to_remove = ['T-Shirt', 'Pants']\n",
    "data_clothes = data_clothes[data_clothes['label'].isin(data_clothes_to_remove)]\n",
    "\n",
    "# Se seleccionan solo 1000 datos\n",
    "data_clothes = data_clothes[0:1000]\n",
    "\n",
    "\n",
    "# Se cambia la categoria T-Shirt por 1 y Pants por 0 para procesar adecuadamente\n",
    "label_encoder1 = preprocessing.LabelEncoder()\n",
    "data_clothes[\"label\"] = label_encoder1.fit_transform(data_clothes[\"label\"])\n",
    "\n",
    "# Se verifica la limpieza de los datos a tratar\n",
    "data_clothes['label'].value_counts()"
   ]
  },
  {
   "attachments": {},
   "cell_type": "markdown",
   "metadata": {},
   "source": [
    "#### ***Funciones para almacenar los datos seleccionados a tratar***"
   ]
  },
  {
   "cell_type": "code",
   "execution_count": 25,
   "metadata": {},
   "outputs": [],
   "source": [
    "def save_train_image():\n",
    "    k = 1\n",
    "    for i in tqdm(data_clothes.index.tolist()[0:800]):\n",
    "        img_path = data_clothes['image'][i]\n",
    "        original_path = 'dataset2/images_original/' + img_path        \n",
    "        image =  Image.open(original_path)       \n",
    "        image = tf.image.resize(image, (224,224), preserve_aspect_ratio=False, antialias=False)  \n",
    "        image = tf.image.rgb_to_grayscale(image)\n",
    "        image  = tf.keras.utils.array_to_img(image) \n",
    "        new_path = 'dataset2/images_train_V2/train' + str(k)  + '.jpg'\n",
    "        k += 1\n",
    "        if os.path.exists(new_path): \n",
    "            break\n",
    "        else:\n",
    "            image = image.save(new_path)\n",
    "\n",
    "def save_test_image():\n",
    "    k = 1\n",
    "    for i in tqdm(data_clothes.index.tolist()[801:1000]):\n",
    "        img_path = data_clothes['image'][i]\n",
    "        original_path = 'dataset2/images_original/' + img_path        \n",
    "        image =  Image.open(original_path)   \n",
    "        image = tf.image.resize(image, (224,224), preserve_aspect_ratio=False, antialias=False)  \n",
    "        image = tf.image.rgb_to_grayscale(image)\n",
    "        image  = tf.keras.utils.array_to_img(image) \n",
    "        new_path = 'dataset2/images_test_V2/test' + str(k) + '.jpg'\n",
    "        k += 1\n",
    "        if os.path.exists(new_path): \n",
    "            break\n",
    "        else:\n",
    "            image = image.save(new_path)   \n",
    "\n",
    "            \n",
    "def save_new_csv(path, data):\n",
    "    if os.path.exists(path): \n",
    "        pass\n",
    "    else:\n",
    "        data.to_csv(path, index=False)"
   ]
  },
  {
   "attachments": {},
   "cell_type": "markdown",
   "metadata": {},
   "source": [
    "#### ***Almacenamiento de los datos a tratar en carpetas a parte separando por nombres (train y test) y se crea un CSV con los datos a tratar***"
   ]
  },
  {
   "cell_type": "code",
   "execution_count": 26,
   "metadata": {},
   "outputs": [
    {
     "name": "stderr",
     "output_type": "stream",
     "text": [
      "  0%|          | 0/800 [00:00<?, ?it/s]\n",
      "  0%|          | 0/199 [00:00<?, ?it/s]\n"
     ]
    }
   ],
   "source": [
    "save_train_image()\n",
    "save_test_image()\n",
    "save_new_csv('dataset2/CSV_V2/clothes_V2.csv', data_clothes)"
   ]
  }
 ],
 "metadata": {
  "kernelspec": {
   "display_name": "Python 3",
   "language": "python",
   "name": "python3"
  },
  "language_info": {
   "codemirror_mode": {
    "name": "ipython",
    "version": 3
   },
   "file_extension": ".py",
   "mimetype": "text/x-python",
   "name": "python",
   "nbconvert_exporter": "python",
   "pygments_lexer": "ipython3",
   "version": "3.11.1"
  },
  "orig_nbformat": 4
 },
 "nbformat": 4,
 "nbformat_minor": 2
}
