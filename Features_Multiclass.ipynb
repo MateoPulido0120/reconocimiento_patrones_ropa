{
 "cells": [
  {
   "attachments": {},
   "cell_type": "markdown",
   "metadata": {},
   "source": [
    "#### ***Importación de las librerias utiles***"
   ]
  },
  {
   "cell_type": "code",
   "execution_count": 1,
   "metadata": {},
   "outputs": [],
   "source": [
    "import matplotlib.pyplot as plt\n",
    "import pandas as pd\n",
    "import numpy as np\n",
    "from skimage import feature\n",
    "from tqdm import tqdm\n",
    "from skimage.io import imread_collection\n",
    "from sklearn.cluster import KMeans\n",
    "import pywt\n",
    "from scipy.stats import gennorm\n",
    "import os"
   ]
  },
  {
   "attachments": {},
   "cell_type": "markdown",
   "metadata": {},
   "source": [
    "#### ***Funciones auxiliares***"
   ]
  },
  {
   "cell_type": "code",
   "execution_count": 2,
   "metadata": {},
   "outputs": [],
   "source": [
    "def convert2image(data_list, size):\n",
    "    img_data = np.reshape(np.array(data_list), (size,size))\n",
    "    return  img_data\n",
    "\n",
    "def save_new_csv(path, data):\n",
    "    if os.path.exists(path): \n",
    "        pass\n",
    "    else:\n",
    "        data.to_csv(path, index=False)"
   ]
  },
  {
   "attachments": {},
   "cell_type": "markdown",
   "metadata": {},
   "source": [
    "### ***Lectura de datos de entrenamiento y prueba***"
   ]
  },
  {
   "cell_type": "code",
   "execution_count": 3,
   "metadata": {},
   "outputs": [
    {
     "name": "stdout",
     "output_type": "stream",
     "text": [
      "1600\n",
      "399\n"
     ]
    }
   ],
   "source": [
    "train = pd.read_csv('dataset2/CSV/clothes.csv')\n",
    "x_train = imread_collection('dataset2/images_train/*.jpg')\n",
    "\n",
    "print(len(x_train))\n",
    "\n",
    "x_test = imread_collection('dataset2/images_test/*.jpg')\n",
    "\n",
    "print(len(x_test))"
   ]
  },
  {
   "attachments": {},
   "cell_type": "markdown",
   "metadata": {},
   "source": [
    "### ***Haralick***"
   ]
  },
  {
   "cell_type": "code",
   "execution_count": 4,
   "metadata": {},
   "outputs": [],
   "source": [
    "def haralick_descriptor(images, size, distance, angles, moments):\n",
    "\n",
    "    def GLCM(image, size, distance, angles):\n",
    "        glcm = feature.graycomatrix(convert2image(image,size), distance, angles, levels=256, symmetric=True, normed=True)\n",
    "        return glcm\n",
    "\n",
    "    feature_moments = []\n",
    "    Haralick_features = np.array([])\n",
    "\n",
    "    for i in tqdm(range(0,len(images))):\n",
    "        for moment in moments:\n",
    "            haralick_moments = feature.graycoprops(GLCM(images[i], size, distance, angles), prop= moment).ravel().tolist()\n",
    "            feature_moments += haralick_moments\n",
    "\n",
    "        if i == 0:\n",
    "            Haralick_features = np.array(feature_moments)\n",
    "        else:\n",
    "            Haralick_features = np.vstack((Haralick_features, np.array(feature_moments)))\n",
    "        feature_moments = []   \n",
    "    \n",
    "    return Haralick_features"
   ]
  },
  {
   "attachments": {},
   "cell_type": "markdown",
   "metadata": {},
   "source": [
    "#### ***Se hallan los descriptores de Haralick para cada imagen***"
   ]
  },
  {
   "cell_type": "code",
   "execution_count": 34,
   "metadata": {},
   "outputs": [
    {
     "name": "stderr",
     "output_type": "stream",
     "text": [
      "100%|██████████| 1600/1600 [05:55<00:00,  4.50it/s]\n"
     ]
    },
    {
     "data": {
      "text/plain": [
       "(1600, 96)"
      ]
     },
     "execution_count": 34,
     "metadata": {},
     "output_type": "execute_result"
    }
   ],
   "source": [
    "Haralick_features_train = haralick_descriptor(x_train, 224, [1,2,3,4], [0, np.pi/4, np.pi/2, 3*np.pi/4],['contrast', 'dissimilarity', 'homogeneity', 'energy', 'correlation', 'ASM'])\n",
    "\n",
    "Haralick_features_train.shape"
   ]
  },
  {
   "cell_type": "code",
   "execution_count": 35,
   "metadata": {},
   "outputs": [
    {
     "name": "stderr",
     "output_type": "stream",
     "text": [
      "100%|██████████| 399/399 [01:35<00:00,  4.20it/s]\n"
     ]
    },
    {
     "data": {
      "text/plain": [
       "(399, 96)"
      ]
     },
     "execution_count": 35,
     "metadata": {},
     "output_type": "execute_result"
    }
   ],
   "source": [
    "Haralick_features_test = haralick_descriptor(x_test, 224,  [1,2,3,4], [0, np.pi/4, np.pi/2, 3*np.pi/4],['contrast', 'dissimilarity', 'homogeneity', 'energy', 'correlation', 'ASM'])\n",
    "\n",
    "Haralick_features_test.shape"
   ]
  },
  {
   "attachments": {},
   "cell_type": "markdown",
   "metadata": {},
   "source": [
    "#### ***Se almacenan los datos obtenidos en un archivo CSV***"
   ]
  },
  {
   "cell_type": "code",
   "execution_count": 36,
   "metadata": {},
   "outputs": [],
   "source": [
    "pd_Haralick_features_train= pd.DataFrame(Haralick_features_train)\n",
    "pd_Haralick_features_test= pd.DataFrame(Haralick_features_test)\n",
    "\n",
    "save_new_csv('dataset2/CSV/Haralick_Descriptor_clothes_Train.csv', pd_Haralick_features_train)\n",
    "save_new_csv('dataset2/CSV/Haralick_Descriptor_clothes_Test.csv', pd_Haralick_features_test)"
   ]
  },
  {
   "attachments": {},
   "cell_type": "markdown",
   "metadata": {},
   "source": [
    "### ***WAVELET***"
   ]
  },
  {
   "cell_type": "code",
   "execution_count": 24,
   "metadata": {},
   "outputs": [],
   "source": [
    "def WAVELET(images, levels = 3):\n",
    "\n",
    "    WAVELET_features = np.array([])\n",
    "\n",
    "    for i in tqdm(range(0,len(images))):\n",
    "        wavelets = pywt.wavedec2(images[i], 'haar', mode = 'symmetric', level = levels)\n",
    "\n",
    "        features = gennorm.fit(wavelets[0].ravel())\n",
    "        \n",
    "        for coef in wavelets[1:]:\n",
    "            for detail in coef:\n",
    "                features += gennorm.fit(detail.ravel())     \n",
    "\n",
    "        if i == 0:\n",
    "            WAVELET_features = np.array([features])\n",
    "        else:\n",
    "            WAVELET_features = np.vstack((WAVELET_features, features))       \n",
    "\n",
    "\n",
    "    return WAVELET_features"
   ]
  },
  {
   "attachments": {},
   "cell_type": "markdown",
   "metadata": {},
   "source": [
    "#### ***Se hallan los descriptores de Haralick para cada imagen***"
   ]
  },
  {
   "cell_type": "code",
   "execution_count": 25,
   "metadata": {},
   "outputs": [
    {
     "name": "stderr",
     "output_type": "stream",
     "text": [
      "100%|██████████| 1600/1600 [34:39<00:00,  1.30s/it]\n"
     ]
    },
    {
     "data": {
      "text/plain": [
       "(1600, 30)"
      ]
     },
     "execution_count": 25,
     "metadata": {},
     "output_type": "execute_result"
    }
   ],
   "source": [
    "WAVELET_descriptor_Train = WAVELET(x_train, 3)\n",
    "WAVELET_descriptor_Train.shape"
   ]
  },
  {
   "cell_type": "code",
   "execution_count": 26,
   "metadata": {},
   "outputs": [
    {
     "name": "stderr",
     "output_type": "stream",
     "text": [
      "100%|██████████| 399/399 [11:48<00:00,  1.78s/it]\n"
     ]
    },
    {
     "data": {
      "text/plain": [
       "(399, 30)"
      ]
     },
     "execution_count": 26,
     "metadata": {},
     "output_type": "execute_result"
    }
   ],
   "source": [
    "WAVELET_descriptor_Test = WAVELET(x_test, 3)\n",
    "WAVELET_descriptor_Test.shape"
   ]
  },
  {
   "attachments": {},
   "cell_type": "markdown",
   "metadata": {},
   "source": [
    "#### ***Se almacenan los datos obtenidos en un archivo CSV***"
   ]
  },
  {
   "cell_type": "code",
   "execution_count": 27,
   "metadata": {},
   "outputs": [],
   "source": [
    "pdWAVELET_train = pd.DataFrame(WAVELET_descriptor_Train)\n",
    "pdWAVELET_test = pd.DataFrame(WAVELET_descriptor_Test)\n",
    "\n",
    "save_new_csv('dataset2/CSV/WAVELET_Descriptor_clothes_Train.csv', pdWAVELET_train)\n",
    "save_new_csv('dataset2/CSV/WAVELET_Descriptor_clothes_Test.csv', pdWAVELET_test)"
   ]
  }
 ],
 "metadata": {
  "kernelspec": {
   "display_name": "Python 3",
   "language": "python",
   "name": "python3"
  },
  "language_info": {
   "codemirror_mode": {
    "name": "ipython",
    "version": 3
   },
   "file_extension": ".py",
   "mimetype": "text/x-python",
   "name": "python",
   "nbconvert_exporter": "python",
   "pygments_lexer": "ipython3",
   "version": "3.11.1"
  },
  "orig_nbformat": 4
 },
 "nbformat": 4,
 "nbformat_minor": 2
}
